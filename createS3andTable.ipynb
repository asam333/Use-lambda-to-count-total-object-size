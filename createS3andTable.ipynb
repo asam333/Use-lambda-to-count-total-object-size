{
 "cells": [
  {
   "cell_type": "markdown",
   "metadata": {},
   "source": [
    "Python program for creating TestBucket(S3 bucket) and S3-object-size-history(dynamodb table)"
   ]
  },
  {
   "cell_type": "code",
   "execution_count": 9,
   "metadata": {},
   "outputs": [],
   "source": [
    "import boto3\n",
    "region_name = 'us-east-1'"
   ]
  },
  {
   "cell_type": "code",
   "execution_count": 10,
   "metadata": {},
   "outputs": [],
   "source": [
    "def create_s3_bucket(bucket_name):\n",
    "    s3 = boto3.client('s3',region_name=region_name)\n",
    "    try:\n",
    "        s3.create_bucket(Bucket=bucket_name)\n",
    "        print(f'Bucket {bucket_name} created successfully.')\n",
    "    except Exception as e:\n",
    "        print(f'Error creating bucket: {e}')"
   ]
  },
  {
   "cell_type": "code",
   "execution_count": 11,
   "metadata": {},
   "outputs": [],
   "source": [
    "def create_dynamodb_table(table_name):\n",
    "    dynamodb = boto3.client('dynamodb',region_name=region_name)\n",
    "    try:\n",
    "        response = dynamodb.create_table(\n",
    "            TableName=table_name,\n",
    "            KeySchema=[\n",
    "                {\n",
    "                    'AttributeName': 'BucketName',\n",
    "                    'KeyType': 'HASH'  # Partition key\n",
    "                },\n",
    "                {\n",
    "                    'AttributeName': 'Timestamp',\n",
    "                    'KeyType': 'RANGE'  # Sort key\n",
    "                }\n",
    "            ],\n",
    "            AttributeDefinitions=[\n",
    "                {\n",
    "                    'AttributeName': 'BucketName',\n",
    "                    'AttributeType': 'S'\n",
    "                },\n",
    "                {\n",
    "                    'AttributeName': 'Timestamp',\n",
    "                    'AttributeType': 'N'\n",
    "                }\n",
    "            ],\n",
    "            ProvisionedThroughput={\n",
    "                'ReadCapacityUnits': 5,\n",
    "                'WriteCapacityUnits': 5\n",
    "            }\n",
    "        )\n",
    "        print(f'Table {table_name} created successfully.')\n",
    "    except Exception as e:\n",
    "        print(f'Error creating table: {e}')"
   ]
  },
  {
   "cell_type": "code",
   "execution_count": 7,
   "metadata": {},
   "outputs": [
    {
     "name": "stdout",
     "output_type": "stream",
     "text": [
      "Bucket testbucketkiita0130 created successfully.\n",
      "Table S3-object-size-history created successfully.\n"
     ]
    }
   ],
   "source": [
    "create_s3_bucket('testbucketkiita0130')\n",
    "create_dynamodb_table('S3-object-size-history')"
   ]
  },
  {
   "cell_type": "code",
   "execution_count": 14,
   "metadata": {},
   "outputs": [],
   "source": [
    "def add_gsi_to_table(table_name):\n",
    "    dynamodb = boto3.client('dynamodb', region_name=region_name)\n",
    "    try:\n",
    "        response = dynamodb.update_table(\n",
    "            TableName=table_name,\n",
    "            AttributeDefinitions=[\n",
    "                {\n",
    "                    'AttributeName': 'BucketName',\n",
    "                    'AttributeType': 'S'\n",
    "                },\n",
    "                {\n",
    "                    'AttributeName': 'TotalSize',\n",
    "                    'AttributeType': 'N'\n",
    "                }\n",
    "            ],\n",
    "            GlobalSecondaryIndexUpdates=[\n",
    "                {\n",
    "                    'Create': {\n",
    "                        'IndexName': 'BucketName-TotalSize-index',\n",
    "                        'KeySchema': [\n",
    "                            {\n",
    "                                'AttributeName': 'BucketName',\n",
    "                                'KeyType': 'HASH'\n",
    "                            },\n",
    "                            {\n",
    "                                'AttributeName': 'TotalSize',\n",
    "                                'KeyType': 'RANGE'\n",
    "                            }\n",
    "                        ],\n",
    "                        'Projection': {\n",
    "                            'ProjectionType': 'ALL'\n",
    "                        },\n",
    "                        'ProvisionedThroughput': {\n",
    "                            'ReadCapacityUnits': 5,\n",
    "                            'WriteCapacityUnits': 5\n",
    "                        }\n",
    "                    }\n",
    "                }\n",
    "            ]\n",
    "        )\n",
    "        print(f'GSI added successfully to table {table_name}.')\n",
    "    except Exception as e:\n",
    "        print(f'Error updating table: {e}')"
   ]
  },
  {
   "cell_type": "code",
   "execution_count": 15,
   "metadata": {},
   "outputs": [
    {
     "name": "stdout",
     "output_type": "stream",
     "text": [
      "GSI added successfully to table S3-object-size-history.\n"
     ]
    }
   ],
   "source": [
    "add_gsi_to_table('S3-object-size-history')"
   ]
  }
 ],
 "metadata": {
  "kernelspec": {
   "display_name": "Python 3",
   "language": "python",
   "name": "python3"
  },
  "language_info": {
   "codemirror_mode": {
    "name": "ipython",
    "version": 3
   },
   "file_extension": ".py",
   "mimetype": "text/x-python",
   "name": "python",
   "nbconvert_exporter": "python",
   "pygments_lexer": "ipython3",
   "version": "3.12.3"
  }
 },
 "nbformat": 4,
 "nbformat_minor": 2
}
